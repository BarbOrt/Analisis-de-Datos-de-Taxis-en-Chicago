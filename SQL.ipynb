{
 "cells": [
  {
   "cell_type": "markdown",
   "metadata": {},
   "source": [
    "1. -- Calcular el número de viajes en taxi para cada compañía de taxis para el 15 y 16 de noviembre de 2017"
   ]
  },
  {
   "cell_type": "code",
   "execution_count": null,
   "metadata": {
    "vscode": {
     "languageId": "plaintext"
    }
   },
   "outputs": [],
   "source": [
    "SELECT company_name, COUNT(*) AS trips_amount\n",
    "FROM cabs\n",
    "JOIN trips ON cabs.cab_id = trips.cab_id\n",
    "WHERE DATE(start_ts) BETWEEN '2017-11-15' AND '2017-11-16'\n",
    "GROUP BY company_name\n",
    "ORDER BY trips_amount DESC;"
   ]
  },
  {
   "cell_type": "markdown",
   "metadata": {},
   "source": [
    "2. -- Calcular el número de viajes para cada empresa de taxis cuyo nombre contiene las palabras \"Yellow\" o \"Blue\" del 1 al 7 de noviembre de 2017"
   ]
  },
  {
   "cell_type": "code",
   "execution_count": null,
   "metadata": {
    "vscode": {
     "languageId": "plaintext"
    }
   },
   "outputs": [],
   "source": [
    "SELECT company_name, COUNT(*) AS trips_amount\n",
    "FROM cabs\n",
    "JOIN trips ON cabs.cab_id = trips.cab_id\n",
    "WHERE (company_name LIKE '%Yellow%' OR company_name LIKE '%Blue%')\n",
    "  AND DATE(start_ts) BETWEEN '2017-11-01' AND '2017-11-07'\n",
    "GROUP BY company_name\n",
    "ORDER BY trips_amount DESC;\n"
   ]
  },
  {
   "cell_type": "markdown",
   "metadata": {},
   "source": [
    "3. -- Calcular el número de viajes para las empresas Flash Cab y Taxi Affiliation Services del 1 al 7 de noviembre de 2017, y agrupar los viajes de todas las demás empresas en el grupo \"Other\""
   ]
  },
  {
   "cell_type": "code",
   "execution_count": null,
   "metadata": {
    "vscode": {
     "languageId": "plaintext"
    }
   },
   "outputs": [],
   "source": [
    "SELECT \n",
    "    CASE \n",
    "        WHEN company_name IN ('Flash Cab', 'Taxi Affiliation Services') THEN company_name \n",
    "        ELSE 'Other' \n",
    "    END AS company,\n",
    "    COUNT(*) AS trips_amount\n",
    "FROM cabs\n",
    "JOIN trips ON cabs.cab_id = trips.cab_id\n",
    "WHERE DATE(start_ts) BETWEEN '2017-11-01' AND '2017-11-07'\n",
    "GROUP BY \n",
    "    CASE \n",
    "        WHEN company_name IN ('Flash Cab', 'Taxi Affiliation Services') THEN company_name \n",
    "        ELSE 'Other' \n",
    "    END\n",
    "ORDER BY trips_amount DESC;"
   ]
  },
  {
   "cell_type": "markdown",
   "metadata": {},
   "source": [
    "4. -- Recuperar los identificadores de los barrios de O'Hare y Loop"
   ]
  },
  {
   "cell_type": "code",
   "execution_count": null,
   "metadata": {
    "vscode": {
     "languageId": "plaintext"
    }
   },
   "outputs": [],
   "source": [
    "SELECT neighborhood_id, name\n",
    "FROM neighborhoods\n",
    "WHERE name LIKE '%Hare' OR name LIKE 'Loop';"
   ]
  },
  {
   "cell_type": "markdown",
   "metadata": {},
   "source": [
    "5. -- Recuperar los registros de condiciones meteorológicas y dividir las horas en dos grupos: \"Bad\" y \"Good\""
   ]
  },
  {
   "cell_type": "code",
   "execution_count": null,
   "metadata": {
    "vscode": {
     "languageId": "plaintext"
    }
   },
   "outputs": [],
   "source": [
    "SELECT \n",
    "    ts,\n",
    "    CASE \n",
    "        WHEN description LIKE '%rain%' OR description LIKE '%storm%' THEN 'Bad'\n",
    "        ELSE 'Good'\n",
    "    END AS weather_conditions\n",
    "FROM \n",
    "    weather_records;\n"
   ]
  },
  {
   "cell_type": "markdown",
   "metadata": {},
   "source": [
    "6. -- Recuperar los viajes que comenzaron en el Loop el sábado y terminaron en O'Hare junto con las condiciones climáticas y la duración de cada viaje"
   ]
  },
  {
   "cell_type": "code",
   "execution_count": null,
   "metadata": {
    "vscode": {
     "languageId": "plaintext"
    }
   },
   "outputs": [],
   "source": [
    "SELECT \n",
    "    trips.start_ts AS start_ts,\n",
    "    CASE \n",
    "        WHEN weather_records.description LIKE '%rain%' OR weather_records.description LIKE '%storm%' THEN 'Bad'\n",
    "        ELSE 'Good'\n",
    "    END AS weather_conditions,\n",
    "    trips.duration_seconds AS duration_seconds\n",
    "FROM \n",
    "    trips\n",
    "INNER JOIN \n",
    "    weather_records ON DATE_TRUNC('hour', trips.start_ts) = DATE_TRUNC('hour', weather_records.ts)\n",
    "WHERE \n",
    "    EXTRACT(DOW FROM trips.start_ts) = 6\n",
    "    AND trips.pickup_location_id = 50\n",
    "    AND trips.dropoff_location_id = 63\n",
    "ORDER BY \n",
    "    trips.trip_id;"
   ]
  }
 ],
 "metadata": {
  "kernelspec": {
   "display_name": "Python 3 (ipykernel)",
   "language": "python",
   "name": "python3"
  },
  "language_info": {
   "codemirror_mode": {
    "name": "ipython",
    "version": 3
   },
   "file_extension": ".py",
   "mimetype": "text/x-python",
   "name": "python",
   "nbconvert_exporter": "python",
   "pygments_lexer": "ipython3",
   "version": "3.9.19"
  },
  "toc": {
   "base_numbering": 1,
   "nav_menu": {},
   "number_sections": true,
   "sideBar": true,
   "skip_h1_title": true,
   "title_cell": "Table of Contents",
   "title_sidebar": "Contents",
   "toc_cell": false,
   "toc_position": {
    "height": "calc(100% - 180px)",
    "left": "10px",
    "top": "150px",
    "width": "384px"
   },
   "toc_section_display": true,
   "toc_window_display": true
  }
 },
 "nbformat": 4,
 "nbformat_minor": 2
}
